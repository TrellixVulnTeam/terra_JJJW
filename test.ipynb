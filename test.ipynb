{
 "metadata": {
  "language_info": {
   "codemirror_mode": {
    "name": "ipython",
    "version": 3
   },
   "file_extension": ".py",
   "mimetype": "text/x-python",
   "name": "python",
   "nbconvert_exporter": "python",
   "pygments_lexer": "ipython3",
   "version": "3.8.5-final"
  },
  "orig_nbformat": 2,
  "kernelspec": {
   "name": "python_defaultSpec_1597953855463",
   "display_name": "Python 3.8.5 64-bit ('terra': conda)"
  }
 },
 "nbformat": 4,
 "nbformat_minor": 2,
 "cells": [
  {
   "cell_type": "code",
   "execution_count": 16,
   "metadata": {
    "tags": []
   },
   "outputs": [
    {
     "output_type": "stream",
     "name": "stdout",
     "text": "/Users/sabrieyuboglu/code/terra\n"
    }
   ],
   "source": [
    "import luigi\n",
    "import os\n",
    "%cd "
   ]
  },
  {
   "cell_type": "code",
   "execution_count": 3,
   "metadata": {},
   "outputs": [],
   "source": [
    "class GenerateWords(luigi.Task):\n",
    "\n",
    "    def output(self):\n",
    "        return luigi.LocalTarget('words.txt')\n",
    "\n",
    "    def run(self):\n",
    "\n",
    "        # write a dummy list of words to output file\n",
    "        words = [\n",
    "                'apple',\n",
    "                'banana',\n",
    "                'grapefruit'\n",
    "                ]\n",
    "\n",
    "        with self.output().open('w') as f:\n",
    "            for word in words:\n",
    "                f.write('{word}\\n'.format(word=word))"
   ]
  },
  {
   "cell_type": "code",
   "execution_count": 6,
   "metadata": {},
   "outputs": [],
   "source": [
    "def test(cls):\n",
    "    class NewClass(luigi.Task):\n",
    "\n",
    "        def requires(self):\n",
    "            return GenerateWords()\n",
    "\n",
    "        def output(self):\n",
    "            return luigi.LocalTarget('letter_counts.txt')\n",
    "\n",
    "        def run(self):\n",
    "\n",
    "            # read in file as list\n",
    "            with self.input().open('r') as infile:\n",
    "                words = infile.read().splitlines()\n",
    "\n",
    "            # write each word to output file with its corresponding letter count\n",
    "            with self.output().open('w') as outfile:\n",
    "                for word in words:\n",
    "                    outfile.write(\n",
    "                            '{word} | {letter_count}\\n'.format(\n",
    "                                word=word,\n",
    "                                letter_count=len(word)\n",
    "                                )\n",
    "                            )\n",
    "    return NewClass()"
   ]
  },
  {
   "cell_type": "code",
   "execution_count": 17,
   "metadata": {
    "tags": []
   },
   "outputs": [
    {
     "output_type": "stream",
     "name": "stderr",
     "text": "DEBUG: Checking if GenerateWords() is complete\nINFO: Informed scheduler that task   GenerateWords__99914b932b   has status   PENDING\nDEBUG: Checking if NewClass() is complete\nDEBUG: Checking if GenerateWords() is complete\nINFO: Informed scheduler that task   NewClass__99914b932b   has status   PENDING\nINFO: Informed scheduler that task   GenerateWords__99914b932b   has status   PENDING\nINFO: Done scheduling tasks\nINFO: Running Worker with 1 processes\nDEBUG: Asking scheduler for work...\nDEBUG: Pending tasks: 2\nINFO: [pid 7451] Worker Worker(salt=379171619, workers=1, host=Sabris-MBP.home, username=sabrieyuboglu, pid=7451) running   GenerateWords()\nINFO: [pid 7451] Worker Worker(salt=379171619, workers=1, host=Sabris-MBP.home, username=sabrieyuboglu, pid=7451) done      GenerateWords()\nDEBUG: 1 running tasks, waiting for next task to finish\nINFO: Informed scheduler that task   GenerateWords__99914b932b   has status   DONE\nDEBUG: Asking scheduler for work...\nDEBUG: Pending tasks: 1\nINFO: [pid 7451] Worker Worker(salt=379171619, workers=1, host=Sabris-MBP.home, username=sabrieyuboglu, pid=7451) running   NewClass()\nINFO: [pid 7451] Worker Worker(salt=379171619, workers=1, host=Sabris-MBP.home, username=sabrieyuboglu, pid=7451) done      NewClass()\nDEBUG: 1 running tasks, waiting for next task to finish\nINFO: Informed scheduler that task   NewClass__99914b932b   has status   DONE\nDEBUG: Asking scheduler for work...\nDEBUG: Done\nDEBUG: There are no more tasks to run at this time\nINFO: Worker Worker(salt=379171619, workers=1, host=Sabris-MBP.home, username=sabrieyuboglu, pid=7451) was stopped. Shutting down Keep-Alive thread\nINFO: \n===== Luigi Execution Summary =====\n\nScheduled 2 tasks of which:\n* 2 ran successfully:\n    - 1 GenerateWords()\n    - 1 NewClass()\n\nThis progress looks :) because there were no failed tasks or missing dependencies\n\n===== Luigi Execution Summary =====\n\n"
    },
    {
     "output_type": "execute_result",
     "data": {
      "text/plain": "True"
     },
     "metadata": {},
     "execution_count": 17
    }
   ],
   "source": [
    "luigi.build([GenerateWords(), test(GenerateWords)], local_scheduler=True)"
   ]
  },
  {
   "cell_type": "code",
   "execution_count": null,
   "metadata": {},
   "outputs": [],
   "source": []
  }
 ]
}